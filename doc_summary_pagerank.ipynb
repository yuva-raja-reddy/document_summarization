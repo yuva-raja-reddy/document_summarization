{
 "cells": [
  {
   "cell_type": "code",
   "execution_count": null,
   "metadata": {
    "colab": {
     "base_uri": "https://localhost:8080/"
    },
    "executionInfo": {
     "elapsed": 269,
     "status": "ok",
     "timestamp": 1737748756215,
     "user": {
      "displayName": "Yuvaraja Reddy Avuthu",
      "userId": "13615256092999220370"
     },
     "user_tz": 300
    },
    "id": "0qWQE7GFUal0",
    "outputId": "088de9cb-1380-4ab3-b477-6ded9f3afca4"
   },
   "outputs": [],
   "source": [
    "import os\n",
    "from google.colab import drive\n",
    "\n",
    "if os.path.exists('/content/drive/MyDrive'):\n",
    "    print(\"Google Drive is already mounted. Skipping...\")\n",
    "else:\n",
    "    print(\"Mounting Google Drive...\")\n",
    "    drive.mount('/content/drive')"
   ]
  },
  {
   "cell_type": "code",
   "execution_count": 5,
   "metadata": {
    "executionInfo": {
     "elapsed": 159,
     "status": "ok",
     "timestamp": 1737752465583,
     "user": {
      "displayName": "Yuvaraja Reddy Avuthu",
      "userId": "13615256092999220370"
     },
     "user_tz": 300
    },
    "id": "3G10R2Y_Us0t"
   },
   "outputs": [],
   "source": [
    "import os\n",
    "os.chdir('/content/drive/MyDrive/document_summarization')"
   ]
  },
  {
   "cell_type": "code",
   "execution_count": null,
   "metadata": {
    "colab": {
     "base_uri": "https://localhost:8080/"
    },
    "executionInfo": {
     "elapsed": 28138,
     "status": "ok",
     "timestamp": 1737752493880,
     "user": {
      "displayName": "Yuvaraja Reddy Avuthu",
      "userId": "13615256092999220370"
     },
     "user_tz": 300
    },
    "id": "r9yd3qZDRRFs",
    "outputId": "51e1df5a-27b4-4474-ebba-d00410292be9"
   },
   "outputs": [],
   "source": [
    "!pip install -r requirements.txt -q"
   ]
  },
  {
   "cell_type": "code",
   "execution_count": null,
   "metadata": {
    "colab": {
     "base_uri": "https://localhost:8080/"
    },
    "executionInfo": {
     "elapsed": 39158,
     "status": "ok",
     "timestamp": 1737748839303,
     "user": {
      "displayName": "Yuvaraja Reddy Avuthu",
      "userId": "13615256092999220370"
     },
     "user_tz": 300
    },
    "id": "H2cO9xYIP_6D",
    "outputId": "459d0b01-6477-49b4-dcd6-ed2d7159f80e"
   },
   "outputs": [],
   "source": [
    "import os\n",
    "import shutil\n",
    "import kagglehub\n",
    "import pandas as pd\n",
    "import numpy as np\n",
    "import matplotlib.pyplot as plt\n",
    "import seaborn as sns\n",
    "import nltk\n",
    "import networkx as nx\n",
    "import tensorflow_hub as hub\n",
    "from collections import Counter\n",
    "from nltk.tokenize import sent_tokenize, word_tokenize\n",
    "from textblob import TextBlob\n",
    "from transformers import pipeline\n",
    "\n",
    "nltk.download('punkt_tab')"
   ]
  },
  {
   "cell_type": "code",
   "execution_count": null,
   "metadata": {
    "colab": {
     "base_uri": "https://localhost:8080/"
    },
    "executionInfo": {
     "elapsed": 123,
     "status": "ok",
     "timestamp": 1737748853022,
     "user": {
      "displayName": "Yuvaraja Reddy Avuthu",
      "userId": "13615256092999220370"
     },
     "user_tz": 300
    },
    "id": "yEcW1nG5QAUR",
    "outputId": "bdc2febc-fe25-4433-8a3a-47c1ff931c51"
   },
   "outputs": [],
   "source": [
    "download_path = os.getcwd()\n",
    "destination_path = os.path.join(download_path, \"dataset\")\n",
    "\n",
    "# Check if dataset already exists\n",
    "if os.path.exists(destination_path) and os.listdir(destination_path):\n",
    "    print(f\"Path '{destination_path}' already exists. Skipping download.\")\n",
    "else:\n",
    "    print(\"Downloading dataset...\")\n",
    "    dataset_path = kagglehub.dataset_download(\"pariza/bbc-news-summary\")\n",
    "\n",
    "    shutil.move(dataset_path, destination_path)\n",
    "    print(\"Dataset stored at:\", destination_path)"
   ]
  },
  {
   "cell_type": "code",
   "execution_count": null,
   "metadata": {
    "colab": {
     "base_uri": "https://localhost:8080/",
     "height": 206
    },
    "executionInfo": {
     "elapsed": 15236,
     "status": "ok",
     "timestamp": 1737748870656,
     "user": {
      "displayName": "Yuvaraja Reddy Avuthu",
      "userId": "13615256092999220370"
     },
     "user_tz": 300
    },
    "id": "wYn8N6ctUtG0",
    "outputId": "d4afa301-6747-47c7-d749-737562e2629e"
   },
   "outputs": [],
   "source": [
    "# Collect file paths\n",
    "path_, filename_, category_, article_or_summary_ = [], [], [], []\n",
    "for dirname, _, filenames in os.walk(\"dataset\"):\n",
    "    for filename in filenames:\n",
    "        path_.append(os.path.join(dirname, filename))\n",
    "        filename_.append(filename)\n",
    "        category_.append(dirname.split(\"/\")[-1])\n",
    "        article_or_summary_.append(dirname.split(\"/\")[-2])\n",
    "\n",
    "# Create DataFrame\n",
    "df = pd.DataFrame({\"path\": path_, \"filename\": filename_, \"category\": category_, \"article_or_summary\": article_or_summary_})\n",
    "df.head()"
   ]
  },
  {
   "cell_type": "code",
   "execution_count": null,
   "metadata": {
    "colab": {
     "base_uri": "https://localhost:8080/",
     "height": 661
    },
    "executionInfo": {
     "elapsed": 236,
     "status": "ok",
     "timestamp": 1737748870890,
     "user": {
      "displayName": "Yuvaraja Reddy Avuthu",
      "userId": "13615256092999220370"
     },
     "user_tz": 300
    },
    "id": "ZFTIfaGQUtJL",
    "outputId": "c89684fd-4c0c-41b6-cdd2-46ce5edbb097"
   },
   "outputs": [],
   "source": [
    "# Count categories\n",
    "ct = Counter(df[df['article_or_summary'] == \"News Articles\"][\"category\"])\n",
    "category_df = pd.DataFrame({\"category\": list(ct.keys()), \"value\": list(ct.values())})\n",
    "\n",
    "# Plot\n",
    "plt.figure(figsize=(10, 5))\n",
    "sns.barplot(x=\"category\", y=\"value\", data=category_df, palette=\"viridis\")\n",
    "plt.xlabel(\"Category\")\n",
    "plt.ylabel(\"Number of Articles\")\n",
    "plt.title(\"Distribution of Articles in Each Category\")\n",
    "plt.xticks(rotation=45)\n",
    "plt.show()"
   ]
  },
  {
   "cell_type": "code",
   "execution_count": null,
   "metadata": {
    "colab": {
     "base_uri": "https://localhost:8080/",
     "height": 449
    },
    "executionInfo": {
     "elapsed": 208,
     "status": "ok",
     "timestamp": 1737748872528,
     "user": {
      "displayName": "Yuvaraja Reddy Avuthu",
      "userId": "13615256092999220370"
     },
     "user_tz": 300
    },
    "id": "Q2h5po3_UtMC",
    "outputId": "0d0fa388-1fb5-4ade-99a4-c22f779029d4"
   },
   "outputs": [],
   "source": [
    "plt.figure(figsize=(8, 5))\n",
    "sns.boxplot(y=category_df[\"value\"], color=\"cyan\")\n",
    "plt.ylabel(\"Value\")\n",
    "plt.title(\"Distribution of Category Values\")\n",
    "plt.show()"
   ]
  },
  {
   "cell_type": "code",
   "execution_count": null,
   "metadata": {
    "colab": {
     "base_uri": "https://localhost:8080/",
     "height": 554
    },
    "executionInfo": {
     "elapsed": 392,
     "status": "ok",
     "timestamp": 1737748874064,
     "user": {
      "displayName": "Yuvaraja Reddy Avuthu",
      "userId": "13615256092999220370"
     },
     "user_tz": 300
    },
    "id": "7wTdMLEuUtOr",
    "outputId": "2b6c5e1e-527b-4951-c1b0-c11e8b423f9f"
   },
   "outputs": [],
   "source": [
    "plt.figure(figsize=(10, 5))\n",
    "sns.scatterplot(x=category_df[\"category\"], y=category_df[\"value\"], size=category_df[\"value\"], sizes=(50, 500), hue=category_df[\"category\"], palette=\"deep\")\n",
    "plt.xlabel(\"Category\")\n",
    "plt.ylabel(\"Number of Articles\")\n",
    "plt.title(\"Category Distribution (Bubble Chart Alternative)\")\n",
    "plt.xticks(rotation=45)\n",
    "plt.legend(title=\"Category\", bbox_to_anchor=(1.05, 1), loc=\"upper left\")\n",
    "plt.show()"
   ]
  },
  {
   "cell_type": "code",
   "execution_count": null,
   "metadata": {
    "colab": {
     "base_uri": "https://localhost:8080/",
     "height": 675
    },
    "executionInfo": {
     "elapsed": 225,
     "status": "ok",
     "timestamp": 1737748875312,
     "user": {
      "displayName": "Yuvaraja Reddy Avuthu",
      "userId": "13615256092999220370"
     },
     "user_tz": 300
    },
    "id": "m_nMwhSbUtRy",
    "outputId": "c118275b-3239-4bd6-e052-2accc7c97635"
   },
   "outputs": [],
   "source": [
    "plt.figure(figsize=(8, 8))\n",
    "plt.pie(category_df[\"value\"], labels=category_df[\"category\"], autopct='%1.1f%%', colors=sns.color_palette(\"pastel\"))\n",
    "plt.title(\"Coverage Ratio of Each Category\")\n",
    "plt.show()"
   ]
  },
  {
   "cell_type": "code",
   "execution_count": null,
   "metadata": {
    "colab": {
     "base_uri": "https://localhost:8080/"
    },
    "executionInfo": {
     "elapsed": 467,
     "status": "ok",
     "timestamp": 1737748876470,
     "user": {
      "displayName": "Yuvaraja Reddy Avuthu",
      "userId": "13615256092999220370"
     },
     "user_tz": 300
    },
    "id": "2SEr4vV8UtUa",
    "outputId": "b6c64e7b-ae92-4021-ceae-96725934bf32"
   },
   "outputs": [],
   "source": [
    "def read_article(text):\n",
    "    sentences = sent_tokenize(text)\n",
    "    return sentences\n",
    "\n",
    "# Load an article\n",
    "file_path = df[df['article_or_summary'] == 'News Articles'].iloc[0]['path']\n",
    "with open(file_path, \"r\") as f:\n",
    "    article = f.read()\n",
    "\n",
    "sent_tok = read_article(article)\n",
    "print(sent_tok[:2])"
   ]
  },
  {
   "cell_type": "code",
   "execution_count": null,
   "metadata": {
    "colab": {
     "base_uri": "https://localhost:8080/",
     "height": 524
    },
    "executionInfo": {
     "elapsed": 1209,
     "status": "ok",
     "timestamp": 1737748878475,
     "user": {
      "displayName": "Yuvaraja Reddy Avuthu",
      "userId": "13615256092999220370"
     },
     "user_tz": 300
    },
    "id": "l3MwmVuyUtXQ",
    "outputId": "d0d85116-a920-49c0-f77d-3fd85fba0d37"
   },
   "outputs": [],
   "source": [
    "mod_sent = []\n",
    "for tok in sent_tok:\n",
    "    blob_obj = TextBlob(tok)\n",
    "    correct_sent = str(blob_obj.correct())\n",
    "    print(f\"\\033[94m Original Token : {tok} \\033[0m\")\n",
    "    print(f\"\\033[92m Corrected Token: {correct_sent} \\033[92m\")\n",
    "    mod_sent.append(correct_sent)\n",
    "\n",
    "# Combine modified sentences\n",
    "\" \".join(mod_sent)"
   ]
  },
  {
   "cell_type": "code",
   "execution_count": null,
   "metadata": {
    "colab": {
     "base_uri": "https://localhost:8080/"
    },
    "executionInfo": {
     "elapsed": 23935,
     "status": "ok",
     "timestamp": 1737748904419,
     "user": {
      "displayName": "Yuvaraja Reddy Avuthu",
      "userId": "13615256092999220370"
     },
     "user_tz": 300
    },
    "id": "OmbjDohVUtZ2",
    "outputId": "e82b5756-306d-4852-a761-51d0efe5edf8"
   },
   "outputs": [],
   "source": [
    "# Load Universal Sentence Encoder\n",
    "embed = hub.load(\"https://tfhub.dev/google/universal-sentence-encoder/4\")\n",
    "\n",
    "def sentence_similarity(sent1, sent2, embed):\n",
    "    A = embed([sent1])[0]\n",
    "    B = embed([sent2])[0]\n",
    "    return 1 - (np.dot(A, B) / (np.linalg.norm(A) * np.linalg.norm(B)))\n",
    "\n",
    "# Test Similarity Between Two Sentences\n",
    "print(f\"Sentence 1 : {mod_sent[0]}\")\n",
    "print(f\"Sentence 2 : {mod_sent[1]}\")\n",
    "print(f\"Similarity Score : {sentence_similarity(mod_sent[0], mod_sent[1], embed)}\")"
   ]
  },
  {
   "cell_type": "code",
   "execution_count": null,
   "metadata": {
    "colab": {
     "base_uri": "https://localhost:8080/"
    },
    "executionInfo": {
     "elapsed": 1296,
     "status": "ok",
     "timestamp": 1737748905712,
     "user": {
      "displayName": "Yuvaraja Reddy Avuthu",
      "userId": "13615256092999220370"
     },
     "user_tz": 300
    },
    "id": "TiEzyMi5gNuZ",
    "outputId": "2af45f43-8f80-4b3b-b544-1d3e61930df6"
   },
   "outputs": [],
   "source": [
    "def build_similarity_matrix(sentences, embeds):\n",
    "    similarity_matrix = np.zeros((len(sentences), len(sentences)))\n",
    "    for idx1 in range(len(sentences)):\n",
    "        for idx2 in range(len(sentences)):\n",
    "            if idx1 != idx2:\n",
    "                similarity_matrix[idx1][idx2] = sentence_similarity(sentences[idx1], sentences[idx2], embeds)\n",
    "    return similarity_matrix\n",
    "\n",
    "sim_mat = build_similarity_matrix(mod_sent, embed)\n",
    "\n",
    "def generate_summary(text, top_n, embeds):\n",
    "    summarize_text = []\n",
    "    sentences = read_article(text)\n",
    "    sentence_similarity_matrix = build_similarity_matrix(sentences, embeds)\n",
    "    sentence_similarity_graph = nx.from_numpy_array(sentence_similarity_matrix)\n",
    "    scores = nx.pagerank(sentence_similarity_graph)\n",
    "    ranked_sentences = sorted(((scores[i], s) for i, s in enumerate(sentences)), reverse=True)\n",
    "    for i in range(top_n):\n",
    "        summarize_text.append(ranked_sentences[i][1])\n",
    "    return \" \".join(summarize_text)\n",
    "\n",
    "Summarized_Text = generate_summary(\" \".join(mod_sent), top_n=5, embeds=embed)\n",
    "print(Summarized_Text)"
   ]
  },
  {
   "cell_type": "code",
   "execution_count": null,
   "metadata": {
    "colab": {
     "base_uri": "https://localhost:8080/"
    },
    "executionInfo": {
     "elapsed": 6,
     "status": "ok",
     "timestamp": 1737748905712,
     "user": {
      "displayName": "Yuvaraja Reddy Avuthu",
      "userId": "13615256092999220370"
     },
     "user_tz": 300
    },
    "id": "mwibIIuzgNxd",
    "outputId": "ba0cc5ea-dea4-4520-b2d7-90a3aa702325"
   },
   "outputs": [],
   "source": [
    "import nltk\n",
    "\n",
    "hypothesis = Summarized_Text\n",
    "reference = \" \".join(mod_sent[:5])  # Using first 5 original sentences as reference\n",
    "\n",
    "BLEUscore = nltk.translate.bleu_score.sentence_bleu([reference], hypothesis)\n",
    "print(f\"BLEUscore : {BLEUscore}\")"
   ]
  },
  {
   "cell_type": "code",
   "execution_count": null,
   "metadata": {
    "id": "MeZkZEfa9Zem"
   },
   "outputs": [],
   "source": []
  },
  {
   "cell_type": "code",
   "execution_count": null,
   "metadata": {
    "colab": {
     "base_uri": "https://localhost:8080/"
    },
    "executionInfo": {
     "elapsed": 239,
     "status": "ok",
     "timestamp": 1737753833963,
     "user": {
      "displayName": "Yuvaraja Reddy Avuthu",
      "userId": "13615256092999220370"
     },
     "user_tz": 300
    },
    "id": "IocuewS6gN0n",
    "outputId": "f3032b6a-6121-4139-a934-4a6557d98b67"
   },
   "outputs": [],
   "source": [
    "%%writefile app.py\n",
    "import gradio as gr\n",
    "import os\n",
    "import random\n",
    "import nltk\n",
    "import networkx as nx\n",
    "import numpy as np\n",
    "import tensorflow_hub as hub\n",
    "from nltk.tokenize import sent_tokenize\n",
    "\n",
    "# Download NLTK dependencies\n",
    "nltk.download('punkt_tab')\n",
    "\n",
    "# Load Universal Sentence Encoder\n",
    "embed = hub.load(\"https://tfhub.dev/google/universal-sentence-encoder/4\")\n",
    "\n",
    "def read_article(text):\n",
    "    sentences = sent_tokenize(text)\n",
    "    return sentences\n",
    "\n",
    "def sentence_similarity(sent1, sent2, embed):\n",
    "    A = embed([sent1])[0]\n",
    "    B = embed([sent2])[0]\n",
    "    return 1 - (np.dot(A, B) / (np.linalg.norm(A) * np.linalg.norm(B)))\n",
    "\n",
    "def build_similarity_matrix(sentences, embeds):\n",
    "    similarity_matrix = np.zeros((len(sentences), len(sentences)))\n",
    "    for idx1 in range(len(sentences)):\n",
    "        for idx2 in range(len(sentences)):\n",
    "            if idx1 != idx2:\n",
    "                similarity_matrix[idx1][idx2] = sentence_similarity(sentences[idx1], sentences[idx2], embeds)\n",
    "    return similarity_matrix\n",
    "\n",
    "def generate_summary(text, top_n):\n",
    "    summarize_text = []\n",
    "    sentences = read_article(text)\n",
    "    sentence_similarity_matrix = build_similarity_matrix(sentences, embed)\n",
    "    sentence_similarity_graph = nx.from_numpy_array(sentence_similarity_matrix)\n",
    "    scores = nx.pagerank(sentence_similarity_graph)\n",
    "    ranked_sentences = sorted(((scores[i], s) for i, s in enumerate(sentences)), reverse=True)\n",
    "    for i in range(min(top_n, len(ranked_sentences))):\n",
    "        summarize_text.append(ranked_sentences[i][1])\n",
    "    return \" \".join(summarize_text)\n",
    "\n",
    "def summarize(text, num_sentences):\n",
    "    return generate_summary(text, num_sentences)\n",
    "\n",
    "random_texts = [\n",
    "    \"\"\"Artificial intelligence (AI) is intelligence demonstrated by machines, as opposed to the natural intelligence displayed by animals and humans. AI research explores problem-solving techniques such as reasoning, perception, and knowledge representation. Over the years, advancements in AI have led to significant progress in areas like speech recognition, computer vision, and robotics. Machine learning, a subset of AI, enables systems to learn from data and make predictions. Deep learning, a more advanced technique, uses neural networks to detect complex patterns. AI applications range from self-driving cars to automated medical diagnostics. However, AI also raises ethical concerns regarding bias, privacy, and automation's impact on employment. Policymakers are working on frameworks to regulate AI while maximizing its benefits. The future of AI includes advancements in artificial general intelligence (AGI), which aims to mimic human intelligence across tasks. Companies and researchers are working towards more responsible AI development. AI-driven automation is transforming workplaces, introducing both opportunities and challenges. AI chatbots and virtual assistants are becoming increasingly common in customer service. Understanding AI’s limitations is crucial to prevent misinformation and misuse. AI ethics focuses on ensuring that models make fair and unbiased decisions. AI is also being integrated into creative fields, generating music, art, and writing. Future AI systems could be capable of self-learning without human intervention. The debate on AI regulation continues as technology evolves. AI in healthcare is helping doctors diagnose diseases more accurately. Companies are investing billions in AI research to stay competitive. The rapid development of AI requires continuous monitoring and evaluation to align with human values.\"\"\",\n",
    "\n",
    "    \"\"\"Climate change is a long-term shift in weather patterns, primarily driven by human activities such as burning fossil fuels. The increase in greenhouse gases traps heat, leading to rising global temperatures. Scientists have observed a drastic increase in extreme weather events, including hurricanes, droughts, and wildfires. Melting polar ice caps are causing sea levels to rise, threatening coastal communities. Climate change also affects biodiversity, leading to habitat loss for many species. Agriculture is heavily impacted, with unpredictable weather patterns affecting crop yields. Governments worldwide are implementing policies to reduce carbon emissions and promote renewable energy. The Paris Agreement is a global effort to limit temperature rise and mitigate climate effects. Public awareness and individual actions, like reducing energy consumption, are crucial in combating climate change. Scientists are developing carbon capture technology to remove CO2 from the atmosphere. The shift to electric vehicles is reducing dependency on fossil fuels. Deforestation contributes to climate change by reducing carbon absorption from trees. Many companies are adopting sustainable practices to minimize their carbon footprint. Renewable energy sources like solar and wind are becoming more accessible and affordable. Climate activists advocate for stronger regulations and accountability from large industries. The global economy is adapting to more sustainable production methods. Education plays a key role in spreading awareness about climate change. Governments are investing in climate resilience infrastructure to protect vulnerable areas. The future of climate action depends on technological innovation and international cooperation.\"\"\",\n",
    "\n",
    "    \"\"\"The history of space exploration began in the mid-20th century with the launch of Sputnik 1 by the Soviet Union. This marked the beginning of the space race between the USA and USSR. The Apollo program led to the first human landing on the Moon in 1969, a defining moment in history. Since then, advancements in space technology have enabled robotic missions to explore Mars, Jupiter, and beyond. The Hubble Space Telescope has provided breathtaking images of the universe, helping astronomers understand cosmic phenomena. The International Space Station (ISS) serves as a collaborative research hub for astronauts from multiple countries. Private companies like SpaceX and Blue Origin are revolutionizing space travel with reusable rocket technology. Plans for manned missions to Mars are actively being developed, aiming for the 2030s. Space tourism is becoming a reality, with civilians now able to experience space travel. The search for extraterrestrial life continues, with rovers analyzing Martian soil for signs of microbial life. Scientists study exoplanets to determine their potential habitability. Deep-space exploration is unlocking secrets of black holes, dark matter, and the origins of the universe. The future of space travel includes plans for lunar bases and asteroid mining. Advancements in satellite technology are improving global communications and Earth monitoring. NASA and other space agencies are collaborating on ambitious interstellar projects. Space junk poses a growing problem, requiring better debris management strategies. The potential for space colonization is a topic of scientific debate and ethical consideration. Cutting-edge propulsion systems could one day allow interstellar travel. Artificial intelligence is being integrated into space missions to enhance efficiency. The discovery of water on Mars has renewed interest in the planet's potential for sustaining life.\"\"\",\n",
    "\n",
    "    \"\"\"The human brain is one of the most complex structures known to science. It contains billions of neurons that communicate through electrical and chemical signals. Brain function is responsible for cognition, emotions, and motor control. Neuroscientists study the brain to understand consciousness and memory formation. Brain plasticity allows neurons to rewire and adapt to new experiences. Damage to certain brain areas can lead to cognitive disorders like Alzheimer's and Parkinson's. The field of neurotechnology is developing brain-machine interfaces that enable communication through thought. Brain scans like MRI and fMRI help researchers study brain activity in real-time. Sleep is crucial for brain function, allowing memory consolidation and cognitive restoration. Certain neurotransmitters like dopamine and serotonin regulate mood and emotions. The blood-brain barrier protects the brain from harmful substances but also limits drug delivery. Meditation and mindfulness practices have been shown to positively affect brain structure. Neurological research aims to develop treatments for conditions like depression and epilepsy. Understanding brain function could one day lead to artificial intelligence mimicking human thought processes. The debate on free will and consciousness continues in philosophical and scientific discussions. The study of dreams provides insight into subconscious thought processing. Brain injuries can have long-lasting effects on personality and cognition. Cognitive enhancement through brain stimulation is an emerging field of research. New discoveries in neuroscience continue to shape our understanding of human intelligence and behavior.\"\"\",\n",
    "\n",
    "    \"\"\"Blockchain technology has revolutionized digital transactions by providing secure, decentralized record-keeping. Initially developed for Bitcoin, blockchain is now used in finance, healthcare, and logistics. The core principle of blockchain is a distributed ledger system that ensures transparency and immutability. Smart contracts automate transactions without the need for intermediaries. Cryptocurrencies like Ethereum and Bitcoin operate on blockchain networks. Decentralized finance (DeFi) is expanding financial opportunities without traditional banks. Non-fungible tokens (NFTs) use blockchain to verify ownership of digital assets. Governments are exploring the use of blockchain for secure voting systems. The security of blockchain relies on cryptographic hashing and consensus mechanisms. While highly secure, blockchain faces challenges like scalability and energy consumption. Environmental concerns have led to the development of eco-friendly consensus models. The technology is also being explored for supply chain transparency and fraud prevention. Large corporations are investing in blockchain to streamline business operations. Regulators are working to establish laws governing cryptocurrency and blockchain applications. Cross-border payments using blockchain reduce transaction fees and increase speed. Blockchain-based identity management could help eliminate identity theft. The concept of Web3 envisions a fully decentralized internet powered by blockchain. Quantum computing poses a potential threat to blockchain encryption in the future. Innovations in layer 2 scaling solutions aim to enhance blockchain efficiency. The continued evolution of blockchain is expected to transform multiple industries worldwide.\"\"\"\n",
    "]\n",
    "\n",
    "def get_random_text():\n",
    "    return random.choice(random_texts)\n",
    "\n",
    "def process_input(user_input, num_sentences):\n",
    "    return summarize(user_input, num_sentences)\n",
    "\n",
    "def set_random_text():\n",
    "    return get_random_text()\n",
    "\n",
    "def clear_fields():\n",
    "    return \"\", \"\"\n",
    "\n",
    "demo = gr.Blocks()\n",
    "with demo:\n",
    "    with gr.Row():\n",
    "        user_input = gr.Textbox(lines=10, placeholder=\"Enter text to summarize or click Generate Random Text\")\n",
    "\n",
    "    num_sentences = gr.Slider(1, 10, step=1, label=\"Number of sentences\")\n",
    "    output = gr.Textbox(label=\"Output\")\n",
    "\n",
    "    with gr.Row():\n",
    "        generate_btn = gr.Button(\"Generate Random Text\")\n",
    "        submit_btn = gr.Button(\"Summarize\")\n",
    "        clear_btn = gr.Button(\"Clear\")\n",
    "\n",
    "    generate_btn.click(set_random_text, inputs=[], outputs=[user_input])\n",
    "    submit_btn.click(process_input, inputs=[user_input, num_sentences], outputs=[output])\n",
    "    clear_btn.click(clear_fields, inputs=[], outputs=[user_input, output])\n",
    "\n",
    "demo.launch()"
   ]
  },
  {
   "cell_type": "code",
   "execution_count": null,
   "metadata": {
    "id": "ZRvs81sXHUu4"
   },
   "outputs": [],
   "source": []
  },
  {
   "cell_type": "code",
   "execution_count": null,
   "metadata": {
    "id": "SZ42ZjgG6vvJ"
   },
   "outputs": [],
   "source": []
  }
 ],
 "metadata": {
  "accelerator": "GPU",
  "colab": {
   "authorship_tag": "ABX9TyMBYEgTl6GB4wNrEYak6GoM",
   "gpuType": "T4",
   "mount_file_id": "13HLdeTBDEzm8opEUD6U_K7lj56YdJtiF",
   "provenance": []
  },
  "kernelspec": {
   "display_name": "Python 3",
   "name": "python3"
  },
  "language_info": {
   "name": "python"
  }
 },
 "nbformat": 4,
 "nbformat_minor": 0
}
